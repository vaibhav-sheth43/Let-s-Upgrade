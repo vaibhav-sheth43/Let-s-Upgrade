{
 "cells": [
  {
   "cell_type": "raw",
   "metadata": {},
   "source": [
    "Question 1\n",
    "\n",
    "Create a numpy array starting from 2 till 50 with a stepsize of 3."
   ]
  },
  {
   "cell_type": "code",
   "execution_count": 3,
   "metadata": {},
   "outputs": [
    {
     "data": {
      "text/plain": [
       "array([ 2,  5,  8, 11, 14, 17, 20, 23, 26, 29, 32, 35, 38, 41, 44, 47])"
      ]
     },
     "execution_count": 3,
     "metadata": {},
     "output_type": "execute_result"
    }
   ],
   "source": [
    "import numpy as np\n",
    "\n",
    "arr = np.arange(2,50,3)\n",
    "arr"
   ]
  },
  {
   "cell_type": "raw",
   "metadata": {},
   "source": [
    "Question 2\n",
    "\n",
    "Accept two lists of 5 elements each from the user.\n",
    "Convert them to numpy arrays. Concatenate these arrays and print it. Also sort these arrays and print it.\n"
   ]
  },
  {
   "cell_type": "code",
   "execution_count": 28,
   "metadata": {},
   "outputs": [
    {
     "name": "stdout",
     "output_type": "stream",
     "text": [
      "Enter the list items : 1 2 3 4 5\n",
      "Enter the list items : 6 7 8 9 10\n",
      "[1, 2, 3, 4, 5] \n",
      " [6, 7, 8, 9, 10]\n",
      "[1 2 3 4 5] [ 6  7  8  9 10]\n",
      "[ 1  2  3  4  5  6  7  8  9 10]\n"
     ]
    }
   ],
   "source": [
    "#lst1 = []\n",
    "#lst2 = []\n",
    "\n",
    "lst1 = [int(item) for item in input(\"Enter the list items : \").split()] \n",
    "lst2 = [int(item) for item in input(\"Enter the list items : \").split()] \n",
    "      \n",
    "print(lst1,\"\\n\",lst2)\n",
    "\n",
    "arr1 = np.array(lst1)\n",
    "arr2 = np.array(lst2)\n",
    "print(arr1, arr2)\n",
    "\n",
    "arr = np.concatenate((arr1,arr2))\n",
    "print(arr)\n",
    "\n"
   ]
  },
  {
   "cell_type": "raw",
   "metadata": {},
   "source": [
    "Question 3\n",
    "\n",
    "Write a code snippet to find the dimensions of a ndarray and its size."
   ]
  },
  {
   "cell_type": "code",
   "execution_count": 31,
   "metadata": {},
   "outputs": [
    {
     "name": "stdout",
     "output_type": "stream",
     "text": [
      "[0 1 2]\n",
      "[[ 0  1  2  3]\n",
      " [ 4  5  6  7]\n",
      " [ 8  9 10 11]]\n",
      "[[[ 0  1  2  3]\n",
      "  [ 4  5  6  7]\n",
      "  [ 8  9 10 11]]\n",
      "\n",
      " [[12 13 14 15]\n",
      "  [16 17 18 19]\n",
      "  [20 21 22 23]]]\n",
      "1\n",
      "2\n",
      "3\n",
      "3\n",
      "12\n",
      "24\n"
     ]
    }
   ],
   "source": [
    "a_1d = np.arange(3)\n",
    "print(a_1d)\n",
    "\n",
    "a_2d = np.arange(12).reshape((3, 4))\n",
    "print(a_2d)\n",
    "\n",
    "a_3d = np.arange(24).reshape((2, 3, 4))\n",
    "print(a_3d)\n",
    "\n",
    "#dimension\n",
    "print(a_1d.ndim)\n",
    "print(a_2d.ndim)\n",
    "print(a_3d.ndim)\n",
    "\n",
    "#size\n",
    "print(a_1d.size)\n",
    "print(a_2d.size)\n",
    "print(a_3d.size)"
   ]
  },
  {
   "cell_type": "raw",
   "metadata": {},
   "source": [
    "Question 4\n",
    "\n",
    "How to convert a 1D array into a 2D array? Demonstrate with the help of a code snippet"
   ]
  },
  {
   "cell_type": "code",
   "execution_count": 32,
   "metadata": {},
   "outputs": [
    {
     "name": "stdout",
     "output_type": "stream",
     "text": [
      "[1 2 3 4]\n",
      "[[1 2]\n",
      " [3 4]]\n"
     ]
    }
   ],
   "source": [
    "a_1d_array = np.array([1, 2, 3, 4])\n",
    "print(a_1d_array)\n",
    "\n",
    "reshaped_to_2d = np.reshape(a_1d_array, (-1, 2))\n",
    "print(reshaped_to_2d)"
   ]
  },
  {
   "cell_type": "raw",
   "metadata": {},
   "source": [
    "Question 5\n",
    "\n",
    "Consider two square numpy arrays. Stack them vertically and horizontally."
   ]
  },
  {
   "cell_type": "code",
   "execution_count": 34,
   "metadata": {},
   "outputs": [
    {
     "name": "stdout",
     "output_type": "stream",
     "text": [
      "[[1 2 3]\n",
      " [4 5 6]\n",
      " [7 8 9]]\n",
      "[[11 22 33]\n",
      " [44 55 66]\n",
      " [77 88 99]]\n",
      "Vertical stacking:\n",
      " [[ 1  2  3]\n",
      " [ 4  5  6]\n",
      " [ 7  8  9]\n",
      " [11 22 33]\n",
      " [44 55 66]\n",
      " [77 88 99]]\n",
      "\n",
      "Horizontal stacking:\n",
      " [[ 1  2  3 11 22 33]\n",
      " [ 4  5  6 44 55 66]\n",
      " [ 7  8  9 77 88 99]]\n"
     ]
    }
   ],
   "source": [
    "arr1 = np.array([[1,2,3],[4,5,6],[7,8,9]])\n",
    "print(arr1)\n",
    "\n",
    "arr2 = np.array([[11,22,33],[44,55,66],[77,88,99]])\n",
    "print(arr2)\n",
    "\n",
    "print(\"Vertical stacking:\\n\", np.vstack((arr1, arr2)))\n",
    "print(\"\\nHorizontal stacking:\\n\", np.hstack((arr1, arr2))) "
   ]
  },
  {
   "cell_type": "raw",
   "metadata": {},
   "source": [
    "Question 6\n",
    "\n",
    "How to get unique items and counts of unique items?"
   ]
  },
  {
   "cell_type": "code",
   "execution_count": 37,
   "metadata": {},
   "outputs": [
    {
     "name": "stdout",
     "output_type": "stream",
     "text": [
      "3\n"
     ]
    }
   ],
   "source": [
    "a_list = [1, 1, 2, 2, 3]\n",
    "a_set = set(a_list)\n",
    "number_of_unique_values = len(a_set)\n",
    "print(number_of_unique_values)"
   ]
  },
  {
   "cell_type": "code",
   "execution_count": null,
   "metadata": {},
   "outputs": [],
   "source": []
  }
 ],
 "metadata": {
  "kernelspec": {
   "display_name": "Python 3",
   "language": "python",
   "name": "python3"
  },
  "language_info": {
   "codemirror_mode": {
    "name": "ipython",
    "version": 3
   },
   "file_extension": ".py",
   "mimetype": "text/x-python",
   "name": "python",
   "nbconvert_exporter": "python",
   "pygments_lexer": "ipython3",
   "version": "3.8.5"
  }
 },
 "nbformat": 4,
 "nbformat_minor": 4
}
